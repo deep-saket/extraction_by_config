{
 "cells": [
  {
   "cell_type": "code",
   "id": "initial_id",
   "metadata": {
    "collapsed": true,
    "ExecuteTime": {
     "end_time": "2025-06-01T04:30:35.710602Z",
     "start_time": "2025-06-01T04:30:35.707741Z"
    }
   },
   "source": [
    "# scratch/test_extraction_item.py\n",
    "\n",
    "from extraction_io.ExtractionItems import ExtractionItem\n",
    "\n",
    "# 1) A valid single-item dict that we want to parse:\n",
    "raw_item = {\n",
    "    \"field_name\": \"BorrowerName\",\n",
    "    \"description\": \"Name of the borrower\",\n",
    "    \"probable_pages\": [1, 2],\n",
    "    \"type\": \"key-value\",          # must match Literal exactly\n",
    "    \"multipage_value\": False,\n",
    "    \"multiline_value\": False,\n",
    "    \"extra_rules\": {\"regex\": \"\\\\w+\"}\n",
    "}\n",
    "\n",
    "# 2) Parse/validate using Pydantic v2's `model_validate`:\n",
    "item = ExtractionItem.model_validate(raw_item)\n",
    "\n",
    "print(\"Parsed ExtractionItem successfully:\")\n",
    "print(f\"  field_name       = {item.field_name!r}\")\n",
    "print(f\"  description      = {item.description!r}\")\n",
    "print(f\"  probable_pages   = {item.probable_pages!r}\")\n",
    "print(f\"  type             = {item.type!r}\")\n",
    "print(f\"  multipage_value  = {item.multipage_value!r}\")\n",
    "print(f\"  multiline_value  = {item.multiline_value!r}\")\n",
    "print(f\"  extra_rules      = {item.extra!r}\")"
   ],
   "outputs": [
    {
     "name": "stdout",
     "output_type": "stream",
     "text": [
      "Parsed ExtractionItem successfully:\n",
      "  field_name       = 'BorrowerName'\n",
      "  description      = 'Name of the borrower'\n",
      "  probable_pages   = [1, 2]\n",
      "  type             = 'key-value'\n",
      "  multipage_value  = False\n",
      "  multiline_value  = False\n",
      "  extra_rules      = {}\n"
     ]
    }
   ],
   "execution_count": 7
  },
  {
   "metadata": {
    "ExecuteTime": {
     "end_time": "2025-05-31T05:55:13.695596Z",
     "start_time": "2025-05-31T05:55:13.690062Z"
    }
   },
   "cell_type": "code",
   "source": [
    "# scratch/test_extraction_items.py\n",
    "\n",
    "from extraction_io.ExtractionItems import ExtractionItem, ExtractionItems\n",
    "from pydantic import ValidationError\n",
    "\n",
    "# 1) Example list of two config items:\n",
    "raw_config = [\n",
    "    {\n",
    "        \"field_name\": \"BorrowerName\",\n",
    "        \"description\": \"Name of the borrower\",\n",
    "        \"probable_pages\": [1],\n",
    "        \"type\": \"key-value\",\n",
    "        \"multipage_value\": False,\n",
    "        \"multiline_value\": False,\n",
    "        \"extra_rules\": {\"regex\": \"\\\\w+\"}\n",
    "    },\n",
    "    {\n",
    "        \"field_name\": \"benefits_list\",\n",
    "        \"description\": \"List of benefits\",\n",
    "        # no probable_pages provided ⇒ defaults to []\n",
    "        \"type\": \"bullet-points\",\n",
    "        \"multipage_value\": False,\n",
    "        \"multiline_value\": False,\n",
    "        # omit extra_rules entirely, it will default to {}\n",
    "    }\n",
    "]\n",
    "\n",
    "# 2) Attempt to parse the list as ExtractionItems:\n",
    "try:\n",
    "    config_model = ExtractionItems.model_validate(raw_config)\n",
    "    print(\"Parsed ExtractionItems successfully. Contents:\")\n",
    "    for idx, item in enumerate(config_model):\n",
    "        print(f\"Item {idx}:\")\n",
    "        print(f\"  field_name      = {item.field_name!r}\")\n",
    "        print(f\"  description     = {item.description!r}\")\n",
    "        print(f\"  probable_pages  = {item.probable_pages!r}\")\n",
    "        print(f\"  type            = {item.type!r}\")\n",
    "        print(f\"  multipage_value = {item.multipage_value!r}\")\n",
    "        print(f\"  multiline_value = {item.multiline_value!r}\")\n",
    "        print(f\"  extra_rules     = {item.extra_rules!r}\")\n",
    "        print()\n",
    "except ValidationError as e:\n",
    "    print(\"ValidationError while parsing ExtractionItems:\")\n",
    "    print(e)"
   ],
   "id": "18d75c8d3c66124e",
   "outputs": [
    {
     "name": "stdout",
     "output_type": "stream",
     "text": [
      "Parsed ExtractionItems successfully. Contents:\n",
      "Item 0:\n",
      "  field_name      = 'BorrowerName'\n",
      "  description     = 'Name of the borrower'\n",
      "  probable_pages  = [1]\n",
      "  type            = 'key-value'\n",
      "  multipage_value = False\n",
      "  multiline_value = False\n",
      "  extra_rules     = {'regex': '\\\\w+'}\n",
      "\n",
      "Item 1:\n",
      "  field_name      = 'benefits_list'\n",
      "  description     = 'List of benefits'\n",
      "  probable_pages  = []\n",
      "  type            = 'bullet-points'\n",
      "  multipage_value = False\n",
      "  multiline_value = False\n",
      "  extra_rules     = {}\n",
      "\n"
     ]
    }
   ],
   "execution_count": 2
  },
  {
   "metadata": {},
   "cell_type": "code",
   "outputs": [],
   "execution_count": null,
   "source": "",
   "id": "702f93614f1576eb"
  }
 ],
 "metadata": {
  "kernelspec": {
   "display_name": "Python 3",
   "language": "python",
   "name": "python3"
  },
  "language_info": {
   "codemirror_mode": {
    "name": "ipython",
    "version": 2
   },
   "file_extension": ".py",
   "mimetype": "text/x-python",
   "name": "python",
   "nbconvert_exporter": "python",
   "pygments_lexer": "ipython2",
   "version": "2.7.6"
  }
 },
 "nbformat": 4,
 "nbformat_minor": 5
}
